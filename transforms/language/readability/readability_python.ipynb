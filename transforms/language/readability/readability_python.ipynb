{
 "cells": [
  {
   "cell_type": "markdown",
   "id": "afd55886-5f5b-4794-838e-ef8179fb0394",
   "metadata": {},
   "source": [
    "##### **** These pip installs need to be adapted to use the appropriate release level. Alternatively, The venv running the jupyter lab could be pre-configured with a requirement file that includes the right release. Example for transform developers working from git clone:\n",
    "```\n",
    "make venv\n",
    "source venv/bin/activate && pip install jupyterlab\n",
    "```"
   ]
  },
  {
   "cell_type": "code",
   "execution_count": null,
   "id": "4c45c3c6-e4d7-4e61-8de6-32d61f2ce695",
   "metadata": {},
   "outputs": [],
   "source": [
    "%%capture\n",
    "## This is here as a reference only\n",
    "# Users and application developers must use the right tag for the latest from pypi\n",
    "#!pip install data-prep-toolkit\n",
    "#!pip install data-prep-toolkit-transforms"
   ]
  },
  {
   "cell_type": "markdown",
   "id": "ebf1f782-0e61-485c-8670-81066beb734c",
   "metadata": {},
   "source": [
    "##### ***** Import required Classes and modules"
   ]
  },
  {
   "cell_type": "code",
   "execution_count": 1,
   "id": "b7e477ed-5c0f-480f-9f7b-6a2fc5c29ac8",
   "metadata": {},
   "outputs": [
    {
     "name": "stdout",
     "output_type": "stream",
     "text": [
      "Collecting huggingface_hub\n",
      "  Downloading huggingface_hub-0.28.1-py3-none-any.whl.metadata (13 kB)\n",
      "Requirement already satisfied: filelock in ./venv/lib64/python3.11/site-packages (from huggingface_hub) (3.17.0)\n",
      "Collecting fsspec>=2023.5.0 (from huggingface_hub)\n",
      "  Downloading fsspec-2025.2.0-py3-none-any.whl.metadata (11 kB)\n",
      "Requirement already satisfied: packaging>=20.9 in ./venv/lib64/python3.11/site-packages (from huggingface_hub) (24.2)\n",
      "Requirement already satisfied: pyyaml>=5.1 in ./venv/lib64/python3.11/site-packages (from huggingface_hub) (6.0.2)\n",
      "Requirement already satisfied: requests in ./venv/lib64/python3.11/site-packages (from huggingface_hub) (2.32.3)\n",
      "Collecting tqdm>=4.42.1 (from huggingface_hub)\n",
      "  Using cached tqdm-4.67.1-py3-none-any.whl.metadata (57 kB)\n",
      "Requirement already satisfied: typing-extensions>=3.7.4.3 in ./venv/lib64/python3.11/site-packages (from huggingface_hub) (4.12.2)\n",
      "Requirement already satisfied: charset-normalizer<4,>=2 in ./venv/lib64/python3.11/site-packages (from requests->huggingface_hub) (3.4.1)\n",
      "Requirement already satisfied: idna<4,>=2.5 in ./venv/lib64/python3.11/site-packages (from requests->huggingface_hub) (3.10)\n",
      "Requirement already satisfied: urllib3<3,>=1.21.1 in ./venv/lib64/python3.11/site-packages (from requests->huggingface_hub) (2.3.0)\n",
      "Requirement already satisfied: certifi>=2017.4.17 in ./venv/lib64/python3.11/site-packages (from requests->huggingface_hub) (2024.12.14)\n",
      "Downloading huggingface_hub-0.28.1-py3-none-any.whl (464 kB)\n",
      "Downloading fsspec-2025.2.0-py3-none-any.whl (184 kB)\n",
      "Using cached tqdm-4.67.1-py3-none-any.whl (78 kB)\n",
      "Installing collected packages: tqdm, fsspec, huggingface_hub\n",
      "Successfully installed fsspec-2025.2.0 huggingface_hub-0.28.1 tqdm-4.67.1\n"
     ]
    },
    {
     "data": {
      "application/vnd.jupyter.widget-view+json": {
       "model_id": "",
       "version_major": 2,
       "version_minor": 0
      },
      "text/plain": [
       "000_00000.parquet:   0%|          | 0.00/2.15G [00:00<?, ?B/s]"
      ]
     },
     "metadata": {},
     "output_type": "display_data"
    },
    {
     "data": {
      "text/plain": [
       "'/home/cma/.cache/huggingface/hub/datasets--HuggingFaceFW--fineweb/snapshots/0f039043b23fe1d4eed300b504aa4b4a68f1c7ba/data/CC-MAIN-2013-20/000_00000.parquet'"
      ]
     },
     "execution_count": 1,
     "metadata": {},
     "output_type": "execute_result"
    }
   ],
   "source": [
    "!pip install --upgrade huggingface_hub\n",
    "from huggingface_hub import hf_hub_download\n",
    "import pandas as pd\n",
    "\n",
    "REPO_ID = \"HuggingFaceFW/fineweb\"\n",
    "FILENAME = \"data/CC-MAIN-2013-20/000_00000.parquet\"\n",
    "\n",
    "hf_hub_download(repo_id=REPO_ID, filename=FILENAME, repo_type=\"dataset\")"
   ]
  },
  {
   "cell_type": "code",
   "execution_count": 1,
   "id": "bae63d15-4ce5-4f2a-a917-0f3161e9dd73",
   "metadata": {},
   "outputs": [],
   "source": [
    "from dpk_readability.runtime import Readability"
   ]
  },
  {
   "cell_type": "markdown",
   "id": "7234563c-2924-4150-8a31-4aec98c1bf33",
   "metadata": {},
   "source": [
    "##### ***** Setup runtime parameters for this transform\n",
    "We will only provide a description for the parameters used in this example. For a complete list of parameters, please refer to the README.md for this transform:\n",
    "|parameter:type | value | description |\n",
    "|-|-|-|\n",
    "| input_folder:str | \\${PWD}/test-data/input/ | folder that contains the input parquet files for the extreme tokenized algorithm |\n",
    "| output_folder:str | \\${PWD}/output/ | folder that contains the all the intermediate results and the output parquet files for the extreme tokenized algorithm |\n",
    "| readability_contents_column_name:str | text | name of the column that stores document text |\n",
    "| readability_score_list:Union[str, list[str]] | mcalpine_eflaw_textstat | list of readability scores or a single readability scores to be computed by the transform |"
   ]
  },
  {
   "cell_type": "code",
   "execution_count": 3,
   "id": "a54a78e9-d78b-4aeb-ac2b-806070a2dec0",
   "metadata": {},
   "outputs": [
    {
     "name": "stderr",
     "output_type": "stream",
     "text": [
      "10:39:03 INFO - Readability parameters are : {'readability_contents_column_name': 'text', 'readability_score_list': ['mcalpine_eflaw_textstat']}\n",
      "10:39:03 INFO - pipeline id pipeline_id\n",
      "10:39:03 INFO - code location None\n",
      "10:39:03 INFO - data factory data_ is using local data access: input_folder - test-data/hf output_folder - output\n",
      "10:39:03 INFO - data factory data_ max_files -1, n_sample -1\n",
      "10:39:03 INFO - data factory data_ Not using data sets, checkpointing False, max files -1, random samples -1, files to use ['.parquet'], files to checkpoint ['.parquet']\n",
      "10:39:03 INFO - orchestrator readability started at 2025-02-07 10:39:03\n",
      "10:39:03 INFO - Number of files is 1, source profile {'max_file_size': 2048.0454998016357, 'min_file_size': 2048.0454998016357, 'total_file_size': 2048.0454998016357}\n",
      "10:42:55 INFO - Completed 1 files (100.0%) in 3.87 min\n",
      "10:42:55 INFO - Done processing 1 files, waiting for flush() completion.\n",
      "10:42:55 INFO - done flushing in 0.0 sec\n",
      "10:42:55 INFO - Completed execution in 3.871 min, execution result 0\n"
     ]
    },
    {
     "data": {
      "text/plain": [
       "0"
      ]
     },
     "execution_count": 3,
     "metadata": {},
     "output_type": "execute_result"
    }
   ],
   "source": [
    "Readability(\n",
    "    input_folder=\"test-data/hf\",\n",
    "    output_folder=\"output\",\n",
    "    readability_contents_column_name=\"text\",\n",
    "    readability_score_list=[\"mcalpine_eflaw_textstat\"],\n",
    ").transform()\n"
   ]
  },
  {
   "cell_type": "markdown",
   "id": "c3df5adf-4717-4a03-864d-9151cd3f134b",
   "metadata": {},
   "source": [
    "##### **** The specified folder will include the transformed parquet files."
   ]
  },
  {
   "cell_type": "code",
   "execution_count": 4,
   "id": "7276fe84-6512-4605-ab65-747351e13a7c",
   "metadata": {},
   "outputs": [
    {
     "data": {
      "text/plain": [
       "['output/readability-test.parquet',\n",
       " 'output/metadata.json',\n",
       " 'output/000_00000.parquet']"
      ]
     },
     "execution_count": 4,
     "metadata": {},
     "output_type": "execute_result"
    }
   ],
   "source": [
    "import glob\n",
    "glob.glob(\"output/*\")"
   ]
  },
  {
   "cell_type": "markdown",
   "id": "d30489d9-fc98-423e-90a8-e8f372787e88",
   "metadata": {},
   "source": [
    "***** print the input data"
   ]
  },
  {
   "cell_type": "code",
   "execution_count": 5,
   "id": "5b22234f-f7a1-4b92-b2ac-376b2545abce",
   "metadata": {},
   "outputs": [
    {
     "name": "stdout",
     "output_type": "stream",
     "text": [
      "shape: (1_091_396, 9)\n",
      "┌──────────┬──────────┬──────────┬──────────┬──────────┬──────────┬──────────┬──────────┬──────────┐\n",
      "│ text     ┆ id       ┆ dump     ┆ url      ┆ date     ┆ file_pat ┆ language ┆ language ┆ token_co │\n",
      "│ ---      ┆ ---      ┆ ---      ┆ ---      ┆ ---      ┆ h        ┆ ---      ┆ _score   ┆ unt      │\n",
      "│ str      ┆ str      ┆ str      ┆ str      ┆ str      ┆ ---      ┆ str      ┆ ---      ┆ ---      │\n",
      "│          ┆          ┆          ┆          ┆          ┆ str      ┆          ┆ f64      ┆ i64      │\n",
      "╞══════════╪══════════╪══════════╪══════════╪══════════╪══════════╪══════════╪══════════╪══════════╡\n",
      "│ How AP   ┆ <urn:uui ┆ CC-MAIN- ┆ http://% ┆ 2013-05- ┆ s3://com ┆ en       ┆ 0.972142 ┆ 717      │\n",
      "│ reported ┆ d:d66bc6 ┆ 2013-20  ┆ 20jwashi ┆ 18T05:48 ┆ moncrawl ┆          ┆          ┆          │\n",
      "│ in all   ┆ fe-8477- ┆          ┆ ngton@ap ┆ :54Z     ┆ /crawl-d ┆          ┆          ┆          │\n",
      "│ formats… ┆ 4adf-b…  ┆          ┆ .org/C…  ┆          ┆ ata/CC…  ┆          ┆          ┆          │\n",
      "│ Did you  ┆ <urn:uui ┆ CC-MAIN- ┆ http://1 ┆ 2013-05- ┆ s3://com ┆ en       ┆ 0.947991 ┆ 821      │\n",
      "│ know you ┆ d:803e14 ┆ 2013-20  ┆ 000aweso ┆ 18T08:11 ┆ moncrawl ┆          ┆          ┆          │\n",
      "│ have two ┆ c3-dc2e- ┆          ┆ methings ┆ :45Z     ┆ /crawl-d ┆          ┆          ┆          │\n",
      "│ litt…    ┆ 43d6-b…  ┆          ┆ .com/2…  ┆          ┆ ata/CC…  ┆          ┆          ┆          │\n",
      "│ Car Wash ┆ <urn:uui ┆ CC-MAIN- ┆ http://1 ┆ 2013-05- ┆ s3://com ┆ en       ┆ 0.911518 ┆ 125      │\n",
      "│ For      ┆ d:ac1bbf ┆ 2013-20  ┆ 027kord. ┆ 18T06:49 ┆ moncrawl ┆          ┆          ┆          │\n",
      "│ Clara!   ┆ ff-9519- ┆          ┆ com/car- ┆ :55Z     ┆ /crawl-d ┆          ┆          ┆          │\n",
      "│ Now is   ┆ 4967-9…  ┆          ┆ wash-f…  ┆          ┆ ata/CC…  ┆          ┆          ┆          │\n",
      "│ you…     ┆          ┆          ┆          ┆          ┆          ┆          ┆          ┆          │\n",
      "│ Listener ┆ <urn:uui ┆ CC-MAIN- ┆ http://1 ┆ 2013-05- ┆ s3://com ┆ en       ┆ 0.956516 ┆ 103      │\n",
      "│ s Get    ┆ d:c1445c ┆ 2013-20  ┆ 075zoofm ┆ 18T06:25 ┆ moncrawl ┆          ┆          ┆          │\n",
      "│ Sky-high ┆ 58-b111- ┆          ┆ .com/lis ┆ :20Z     ┆ /crawl-d ┆          ┆          ┆          │\n",
      "│ View of… ┆ 4c4e-b…  ┆          ┆ teners…  ┆          ┆ ata/CC…  ┆          ┆          ┆          │\n",
      "│ Log In   ┆ <urn:uui ┆ CC-MAIN- ┆ http://1 ┆ 2013-05- ┆ s3://com ┆ en       ┆ 0.798235 ┆ 75       │\n",
      "│ Please   ┆ d:e5829f ┆ 2013-20  ┆ 105govin ┆ 18T05:27 ┆ moncrawl ┆          ┆          ┆          │\n",
      "│ enter    ┆ 7d-b944- ┆          ┆ foevents ┆ :01Z     ┆ /crawl-d ┆          ┆          ┆          │\n",
      "│ your     ┆ 4468-9…  ┆          ┆ .com/e…  ┆          ┆ ata/CC…  ┆          ┆          ┆          │\n",
      "│ ECode…   ┆          ┆          ┆          ┆          ┆          ┆          ┆          ┆          │\n",
      "│ …        ┆ …        ┆ …        ┆ …        ┆ …        ┆ …        ┆ …        ┆ …        ┆ …        │\n",
      "│ PALMS —  ┆ <urn:uui ┆ CC-MAIN- ┆ http://w ┆ 2013-05- ┆ s3://com ┆ en       ┆ 0.971524 ┆ 165      │\n",
      "│ The      ┆ d:9a5989 ┆ 2013-20  ┆ ww.scpr. ┆ 22T08:33 ┆ moncrawl ┆          ┆          ┆          │\n",
      "│ winner   ┆ f7-b385- ┆          ┆ org/news ┆ :55Z     ┆ /crawl-d ┆          ┆          ┆          │\n",
      "│ of a $7  ┆ 498f-8…  ┆          ┆ /2010/…  ┆          ┆ ata/CC…  ┆          ┆          ┆          │\n",
      "│ mil…     ┆          ┆          ┆          ┆          ┆          ┆          ┆          ┆          │\n",
      "│ Irfan    ┆ <urn:uui ┆ CC-MAIN- ┆ http://w ┆ 2013-05- ┆ s3://com ┆ en       ┆ 0.973813 ┆ 313      │\n",
      "│ Khan/AFP ┆ d:b49419 ┆ 2013-20  ┆ ww.scpr. ┆ 22T07:56 ┆ moncrawl ┆          ┆          ┆          │\n",
      "│ /Getty   ┆ dd-bc94- ┆          ┆ org/news ┆ :02Z     ┆ /crawl-d ┆          ┆          ┆          │\n",
      "│ Images   ┆ 4302-a…  ┆          ┆ /2011/…  ┆          ┆ ata/CC…  ┆          ┆          ┆          │\n",
      "│ Fo…      ┆          ┆          ┆          ┆          ┆          ┆          ┆          ┆          │\n",
      "│ A more   ┆ <urn:uui ┆ CC-MAIN- ┆ http://w ┆ 2013-05- ┆ s3://com ┆ en       ┆ 0.96999  ┆ 217      │\n",
      "│ common   ┆ d:832b67 ┆ 2013-20  ┆ ww.scq.u ┆ 22T07:55 ┆ moncrawl ┆          ┆          ┆          │\n",
      "│ sentimen ┆ 8a-df73- ┆          ┆ bc.ca/sc ┆ :36Z     ┆ /crawl-d ┆          ┆          ┆          │\n",
      "│ t than   ┆ 4131-b…  ┆          ┆ iences…  ┆          ┆ ata/CC…  ┆          ┆          ┆          │\n",
      "│ y…       ┆          ┆          ┆          ┆          ┆          ┆          ┆          ┆          │\n",
      "│ Paper    ┆ <urn:uui ┆ CC-MAIN- ┆ http://w ┆ 2013-05- ┆ s3://com ┆ en       ┆ 0.963822 ┆ 659      │\n",
      "│ Fashions ┆ d:1c6127 ┆ 2013-20  ┆ ww.scrap ┆ 22T08:27 ┆ moncrawl ┆          ┆          ┆          │\n",
      "│ Boutique ┆ 1c-9694- ┆          ┆ scene.co ┆ :53Z     ┆ /crawl-d ┆          ┆          ┆          │\n",
      "│ is her…  ┆ 4481-a…  ┆          ┆ m/2010…  ┆          ┆ ata/CC…  ┆          ┆          ┆          │\n",
      "│ Admissio ┆ <urn:uui ┆ CC-MAIN- ┆ http://w ┆ 2013-05- ┆ s3://com ┆ en       ┆ 0.925611 ┆ 252      │\n",
      "│ ns down  ┆ d:8759fd ┆ 2013-20  ┆ ww.scree ┆ 22T08:13 ┆ moncrawl ┆          ┆          ┆          │\n",
      "│ in Argen ┆ 30-1bf9- ┆          ┆ ndaily.c ┆ :50Z     ┆ /crawl-d ┆          ┆          ┆          │\n",
      "│ tina b…  ┆ 4538-8…  ┆          ┆ om/adm…  ┆          ┆ ata/CC…  ┆          ┆          ┆          │\n",
      "└──────────┴──────────┴──────────┴──────────┴──────────┴──────────┴──────────┴──────────┴──────────┘\n"
     ]
    }
   ],
   "source": [
    "import polars as pl\n",
    "import os\n",
    "input_df = pl.read_parquet(os.path.join(os.path.abspath(\"\"), \"test-data\", \"hf\", \"000_00000.parquet\"))\n",
    "\n",
    "with pl.Config(tbl_cols=-1):\n",
    "    print(input_df)"
   ]
  },
  {
   "cell_type": "markdown",
   "id": "5305d127-10fd-4fa6-97a6-ac47db2bdc7e",
   "metadata": {},
   "source": [
    "***** print the output result"
   ]
  },
  {
   "cell_type": "code",
   "execution_count": 6,
   "id": "0b2eddb9-4fb6-41eb-916c-3741b9129f2c",
   "metadata": {},
   "outputs": [
    {
     "name": "stdout",
     "output_type": "stream",
     "text": [
      "shape: (1_091_396, 10)\n",
      "┌─────────┬─────────┬─────────┬─────────┬─────────┬─────────┬─────────┬─────────┬─────────┬────────┐\n",
      "│ text    ┆ id      ┆ dump    ┆ url     ┆ date    ┆ file_pa ┆ languag ┆ languag ┆ token_c ┆ mcalpi │\n",
      "│ ---     ┆ ---     ┆ ---     ┆ ---     ┆ ---     ┆ th      ┆ e       ┆ e_score ┆ ount    ┆ ne_efl │\n",
      "│ str     ┆ str     ┆ str     ┆ str     ┆ str     ┆ ---     ┆ ---     ┆ ---     ┆ ---     ┆ aw_tex │\n",
      "│         ┆         ┆         ┆         ┆         ┆ str     ┆ str     ┆ f64     ┆ i64     ┆ tstat  │\n",
      "│         ┆         ┆         ┆         ┆         ┆         ┆         ┆         ┆         ┆ ---    │\n",
      "│         ┆         ┆         ┆         ┆         ┆         ┆         ┆         ┆         ┆ f64    │\n",
      "╞═════════╪═════════╪═════════╪═════════╪═════════╪═════════╪═════════╪═════════╪═════════╪════════╡\n",
      "│ How AP  ┆ <urn:uu ┆ CC-MAIN ┆ http:// ┆ 2013-05 ┆ s3://co ┆ en      ┆ 0.97214 ┆ 717     ┆ 26.9   │\n",
      "│ reporte ┆ id:d66b ┆ -2013-2 ┆ %20jwas ┆ -18T05: ┆ mmoncra ┆         ┆ 2       ┆         ┆        │\n",
      "│ d in    ┆ c6fe-84 ┆ 0       ┆ hington ┆ 48:54Z  ┆ wl/craw ┆         ┆         ┆         ┆        │\n",
      "│ all for ┆ 77-4adf ┆         ┆ @ap.org ┆         ┆ l-data/ ┆         ┆         ┆         ┆        │\n",
      "│ mats…   ┆ -b…     ┆         ┆ /C…     ┆         ┆ CC…     ┆         ┆         ┆         ┆        │\n",
      "│ Did you ┆ <urn:uu ┆ CC-MAIN ┆ http:// ┆ 2013-05 ┆ s3://co ┆ en      ┆ 0.94799 ┆ 821     ┆ 28.2   │\n",
      "│ know    ┆ id:803e ┆ -2013-2 ┆ 1000awe ┆ -18T08: ┆ mmoncra ┆         ┆ 1       ┆         ┆        │\n",
      "│ you     ┆ 14c3-dc ┆ 0       ┆ somethi ┆ 11:45Z  ┆ wl/craw ┆         ┆         ┆         ┆        │\n",
      "│ have    ┆ 2e-43d6 ┆         ┆ ngs.com ┆         ┆ l-data/ ┆         ┆         ┆         ┆        │\n",
      "│ two     ┆ -b…     ┆         ┆ /2…     ┆         ┆ CC…     ┆         ┆         ┆         ┆        │\n",
      "│ litt…   ┆         ┆         ┆         ┆         ┆         ┆         ┆         ┆         ┆        │\n",
      "│ Car     ┆ <urn:uu ┆ CC-MAIN ┆ http:// ┆ 2013-05 ┆ s3://co ┆ en      ┆ 0.91151 ┆ 125     ┆ 13.3   │\n",
      "│ Wash    ┆ id:ac1b ┆ -2013-2 ┆ 1027kor ┆ -18T06: ┆ mmoncra ┆         ┆ 8       ┆         ┆        │\n",
      "│ For     ┆ bfff-95 ┆ 0       ┆ d.com/c ┆ 49:55Z  ┆ wl/craw ┆         ┆         ┆         ┆        │\n",
      "│ Clara!  ┆ 19-4967 ┆         ┆ ar-wash ┆         ┆ l-data/ ┆         ┆         ┆         ┆        │\n",
      "│ Now is  ┆ -9…     ┆         ┆ -f…     ┆         ┆ CC…     ┆         ┆         ┆         ┆        │\n",
      "│ you…    ┆         ┆         ┆         ┆         ┆         ┆         ┆         ┆         ┆        │\n",
      "│ Listene ┆ <urn:uu ┆ CC-MAIN ┆ http:// ┆ 2013-05 ┆ s3://co ┆ en      ┆ 0.95651 ┆ 103     ┆ 35.7   │\n",
      "│ rs Get  ┆ id:c144 ┆ -2013-2 ┆ 1075zoo ┆ -18T06: ┆ mmoncra ┆         ┆ 6       ┆         ┆        │\n",
      "│ Sky-hig ┆ 5c58-b1 ┆ 0       ┆ fm.com/ ┆ 25:20Z  ┆ wl/craw ┆         ┆         ┆         ┆        │\n",
      "│ h View  ┆ 11-4c4e ┆         ┆ listene ┆         ┆ l-data/ ┆         ┆         ┆         ┆        │\n",
      "│ of…     ┆ -b…     ┆         ┆ rs…     ┆         ┆ CC…     ┆         ┆         ┆         ┆        │\n",
      "│ Log In  ┆ <urn:uu ┆ CC-MAIN ┆ http:// ┆ 2013-05 ┆ s3://co ┆ en      ┆ 0.79823 ┆ 75      ┆ 15.0   │\n",
      "│ Please  ┆ id:e582 ┆ -2013-2 ┆ 1105gov ┆ -18T05: ┆ mmoncra ┆         ┆ 5       ┆         ┆        │\n",
      "│ enter   ┆ 9f7d-b9 ┆ 0       ┆ infoeve ┆ 27:01Z  ┆ wl/craw ┆         ┆         ┆         ┆        │\n",
      "│ your    ┆ 44-4468 ┆         ┆ nts.com ┆         ┆ l-data/ ┆         ┆         ┆         ┆        │\n",
      "│ ECode…  ┆ -9…     ┆         ┆ /e…     ┆         ┆ CC…     ┆         ┆         ┆         ┆        │\n",
      "│ …       ┆ …       ┆ …       ┆ …       ┆ …       ┆ …       ┆ …       ┆ …       ┆ …       ┆ …      │\n",
      "│ PALMS — ┆ <urn:uu ┆ CC-MAIN ┆ http:// ┆ 2013-05 ┆ s3://co ┆ en      ┆ 0.97152 ┆ 165     ┆ 34.4   │\n",
      "│ The     ┆ id:9a59 ┆ -2013-2 ┆ www.scp ┆ -22T08: ┆ mmoncra ┆         ┆ 4       ┆         ┆        │\n",
      "│ winner  ┆ 89f7-b3 ┆ 0       ┆ r.org/n ┆ 33:55Z  ┆ wl/craw ┆         ┆         ┆         ┆        │\n",
      "│ of a $7 ┆ 85-498f ┆         ┆ ews/201 ┆         ┆ l-data/ ┆         ┆         ┆         ┆        │\n",
      "│ mil…    ┆ -8…     ┆         ┆ 0/…     ┆         ┆ CC…     ┆         ┆         ┆         ┆        │\n",
      "│ Irfan   ┆ <urn:uu ┆ CC-MAIN ┆ http:// ┆ 2013-05 ┆ s3://co ┆ en      ┆ 0.97381 ┆ 313     ┆ 22.8   │\n",
      "│ Khan/AF ┆ id:b494 ┆ -2013-2 ┆ www.scp ┆ -22T07: ┆ mmoncra ┆         ┆ 3       ┆         ┆        │\n",
      "│ P/Getty ┆ 19dd-bc ┆ 0       ┆ r.org/n ┆ 56:02Z  ┆ wl/craw ┆         ┆         ┆         ┆        │\n",
      "│ Images  ┆ 94-4302 ┆         ┆ ews/201 ┆         ┆ l-data/ ┆         ┆         ┆         ┆        │\n",
      "│ Fo…     ┆ -a…     ┆         ┆ 1/…     ┆         ┆ CC…     ┆         ┆         ┆         ┆        │\n",
      "│ A more  ┆ <urn:uu ┆ CC-MAIN ┆ http:// ┆ 2013-05 ┆ s3://co ┆ en      ┆ 0.96999 ┆ 217     ┆ 13.9   │\n",
      "│ common  ┆ id:832b ┆ -2013-2 ┆ www.scq ┆ -22T07: ┆ mmoncra ┆         ┆         ┆         ┆        │\n",
      "│ sentime ┆ 678a-df ┆ 0       ┆ .ubc.ca ┆ 55:36Z  ┆ wl/craw ┆         ┆         ┆         ┆        │\n",
      "│ nt than ┆ 73-4131 ┆         ┆ /scienc ┆         ┆ l-data/ ┆         ┆         ┆         ┆        │\n",
      "│ y…      ┆ -b…     ┆         ┆ es…     ┆         ┆ CC…     ┆         ┆         ┆         ┆        │\n",
      "│ Paper   ┆ <urn:uu ┆ CC-MAIN ┆ http:// ┆ 2013-05 ┆ s3://co ┆ en      ┆ 0.96382 ┆ 659     ┆ 23.9   │\n",
      "│ Fashion ┆ id:1c61 ┆ -2013-2 ┆ www.scr ┆ -22T08: ┆ mmoncra ┆         ┆ 2       ┆         ┆        │\n",
      "│ s Bouti ┆ 271c-96 ┆ 0       ┆ apscene ┆ 27:53Z  ┆ wl/craw ┆         ┆         ┆         ┆        │\n",
      "│ que is  ┆ 94-4481 ┆         ┆ .com/20 ┆         ┆ l-data/ ┆         ┆         ┆         ┆        │\n",
      "│ her…    ┆ -a…     ┆         ┆ 10…     ┆         ┆ CC…     ┆         ┆         ┆         ┆        │\n",
      "│ Admissi ┆ <urn:uu ┆ CC-MAIN ┆ http:// ┆ 2013-05 ┆ s3://co ┆ en      ┆ 0.92561 ┆ 252     ┆ 13.8   │\n",
      "│ ons     ┆ id:8759 ┆ -2013-2 ┆ www.scr ┆ -22T08: ┆ mmoncra ┆         ┆ 1       ┆         ┆        │\n",
      "│ down in ┆ fd30-1b ┆ 0       ┆ eendail ┆ 13:50Z  ┆ wl/craw ┆         ┆         ┆         ┆        │\n",
      "│ Argenti ┆ f9-4538 ┆         ┆ y.com/a ┆         ┆ l-data/ ┆         ┆         ┆         ┆        │\n",
      "│ na b…   ┆ -8…     ┆         ┆ dm…     ┆         ┆ CC…     ┆         ┆         ┆         ┆        │\n",
      "└─────────┴─────────┴─────────┴─────────┴─────────┴─────────┴─────────┴─────────┴─────────┴────────┘\n"
     ]
    }
   ],
   "source": [
    "import polars as pl\n",
    "import os\n",
    "output_df = pl.read_parquet(os.path.join(os.path.abspath(\"\"), \"output\", \"000_00000.parquet\"))\n",
    "with pl.Config(tbl_cols=-1):\n",
    "    print(output_df)"
   ]
  },
  {
   "cell_type": "code",
   "execution_count": null,
   "id": "d60e391d-cf58-47ae-9991-04c05d114edc",
   "metadata": {},
   "outputs": [],
   "source": []
  },
  {
   "cell_type": "code",
   "execution_count": null,
   "id": "787c644e-2640-4c05-bdc2-8a261305a89f",
   "metadata": {},
   "outputs": [],
   "source": []
  }
 ],
 "metadata": {
  "kernelspec": {
   "display_name": "Python 3 (ipykernel)",
   "language": "python",
   "name": "python3"
  },
  "language_info": {
   "codemirror_mode": {
    "name": "ipython",
    "version": 3
   },
   "file_extension": ".py",
   "mimetype": "text/x-python",
   "name": "python",
   "nbconvert_exporter": "python",
   "pygments_lexer": "ipython3",
   "version": "3.11.11"
  }
 },
 "nbformat": 4,
 "nbformat_minor": 5
}
